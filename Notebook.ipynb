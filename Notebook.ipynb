{
 "cells": [
  {
   "cell_type": "markdown",
   "metadata": {},
   "source": [
    "# NBA Teams Mutual Players"
   ]
  },
  {
   "cell_type": "markdown",
   "metadata": {},
   "source": [
    "I always like to play a game when watching NBA games where I have to remember witch players have ever played in both teams that are playing the game. Some teams I can't remeber anyone and find it very dificult to find the answer online. So I decided to use python to Find the answer."
   ]
  },
  {
   "cell_type": "markdown",
   "metadata": {},
   "source": [
    "In this notebook I get the list of all players in the NBA that played for each team from wikipedia, and compare the player list to find the mutual players.\n"
   ]
  },
  {
   "cell_type": "markdown",
   "metadata": {},
   "source": [
    "#### Import Modules"
   ]
  },
  {
   "cell_type": "code",
   "execution_count": 47,
   "metadata": {},
   "outputs": [],
   "source": [
    "import pandas as pd # library for data analysis\n",
    "import requests # library to handle requests\n",
    "from bs4 import BeautifulSoup # library to parse HTML documents\n",
    "import re # library to clean player names\n",
    "import numpy as np # library to create a matrix to find mutual players\n",
    "import matplotlib.pyplot as plt # library to plot matrix"
   ]
  },
  {
   "cell_type": "markdown",
   "metadata": {},
   "source": [
    "From the first link we get all the links for the full rosters and the teams names. We store the links in a list called \"link\" and the names on \"names\". Some teams have a roster page different from the others, so I had to keep them separated. "
   ]
  },
  {
   "cell_type": "code",
   "execution_count": 2,
   "metadata": {},
   "outputs": [],
   "source": [
    "wikiurl=\"https://en.wikipedia.org/wiki/Template:NBA_all-time_rosters\"\n",
    "table_class=\"wikitable sortable jquery-tablesorter\"\n",
    "response=requests.get(wikiurl)\n",
    "soup = BeautifulSoup(response.text, 'html.parser')\n",
    "links = soup.find_all('tr')[2].find_all('a')[1:]+soup.find_all('tr')[3].find_all('a')[1:]+soup.find_all('tr')[4].find_all('a')[1:]+soup.find_all('tr')[6].find_all('a')[1:]+soup.find_all('tr')[7].find_all('a')[1:]+soup.find_all('tr')[8].find_all('a')[1:]\n",
    "names = [str(i).split('\"')[-1].split(\"<\")[0].split(\">\")[1] for i in links]\n",
    "links = [\"https://en.wikipedia.org\" + str(i).split('\"')[1] for i in links]\n",
    "diffteamslinks = [\"https://en.wikipedia.org/wiki/Charlotte_Hornets_all-time_roster\",\"https://en.wikipedia.org/wiki/Miami_Heat_all-time_roster\",\"https://en.wikipedia.org/wiki/Minnesota_Timberwolves_all-time_roster\",\"https://en.wikipedia.org/wiki/Dallas_Mavericks_all-time_roster_and_statistics_leaders\"]\n",
    "diffteamsnames = [\"Charlotte Hornets\",\"Miami Heat\",\"Minnesota Timberwolves\",\"Dallas Mavericks\"]\n",
    "teamdict = {}"
   ]
  },
  {
   "cell_type": "markdown",
   "metadata": {},
   "source": [
    "Loops through all the links for each team and stores the tables in dataframes. A dict was created in the last cell to store the team name and the dataframe. Here there are two for loops, one for the regular teams and one for the teams with different roster pages."
   ]
  },
  {
   "cell_type": "code",
   "execution_count": 3,
   "metadata": {},
   "outputs": [],
   "source": [
    "for n,j in enumerate(links):\n",
    "    if j in diffteamslinks:\n",
    "        continue\n",
    "    response=requests.get(j)\n",
    "    soup = BeautifulSoup(response.text, 'html.parser')\n",
    "    tables = []\n",
    "    for i in range(2,26):\n",
    "        df = pd.read_html(str(soup.find_all(\"table\")[i]))\n",
    "        df = df[0]\n",
    "        try:\n",
    "            df.columns = df.columns.droplevel(0)\n",
    "        except:\n",
    "            break\n",
    "        tables.append(df)\n",
    "    players = tables[0]\n",
    "    for i in range(1,len(tables)):\n",
    "        players = players.append(tables[i])\n",
    "    teamdict[names[n]] = players\n",
    "    \n",
    "for n,j in enumerate(diffteamslinks): \n",
    "    response=requests.get(j)\n",
    "    soup = BeautifulSoup(response.text, 'html.parser')\n",
    "    df = pd.read_html(str(soup.find_all(\"table\")[1]))\n",
    "    df = df[0]\n",
    "    teamdict[diffteamsnames[n]] = df\n",
    "\n",
    "teamdict[list(teamdict.keys())[-2]].rename(columns={'Name':'Player'},inplace=True)"
   ]
  },
  {
   "cell_type": "markdown",
   "metadata": {},
   "source": [
    "Here the data is all in the \"teamdict\" dict. After that, we just have to treat the data to find the mutual players. In this next cell, we define a function to clean the name of the players form non-aphabetic characters, numbers and extra spaces.\n",
    "After that, qe apply the function to every name and delete the other columns from the tables."
   ]
  },
  {
   "cell_type": "code",
   "execution_count": 4,
   "metadata": {},
   "outputs": [],
   "source": [
    "def cleannumb(s):\n",
    "    return re.sub(r'[^A-Za-z ]+', '', s).strip()\n",
    "\n",
    "for i in teamdict:\n",
    "    teamdict[i] = teamdict[i][\"Player\"].apply(cleannumb)"
   ]
  },
  {
   "cell_type": "markdown",
   "metadata": {},
   "source": [
    "Here we define the function that returns the list of muttual players from both teams in the input arguments."
   ]
  },
  {
   "cell_type": "code",
   "execution_count": 5,
   "metadata": {},
   "outputs": [],
   "source": [
    "def muttualplayers(a,b):\n",
    "    return teamdict[a][teamdict[a].isin(teamdict[b])].sort_values()"
   ]
  },
  {
   "cell_type": "markdown",
   "metadata": {},
   "source": [
    "Here I also defined a function that retuns the list of teams a player played for"
   ]
  },
  {
   "cell_type": "code",
   "execution_count": 41,
   "metadata": {},
   "outputs": [],
   "source": [
    "def whereplayed(p):\n",
    "    teams = []\n",
    "    for i in teamdict:\n",
    "        if p in list(teamdict[i]):\n",
    "            teams.append(i)\n",
    "    return teams"
   ]
  },
  {
   "cell_type": "markdown",
   "metadata": {},
   "source": [
    "Here is an example of the first function. It returns a list of the players that played in both teams in alphabetical order."
   ]
  },
  {
   "cell_type": "code",
   "execution_count": 64,
   "metadata": {
    "scrolled": true
   },
   "outputs": [
    {
     "name": "stdout",
     "output_type": "stream",
     "text": [
      "Detroit Pistons New Orleans Pelicans\n",
      "['DaJuan Summers', 'Elden Campbell', 'Ish Smith', 'Jameer Nelson', 'James Ennis', 'Josh Smith', 'Larry Drew', 'Mike James', 'Stacey Augmon', 'Stanley Johnson']\n",
      "10\n"
     ]
    }
   ],
   "source": [
    "a = 7\n",
    "c = 24\n",
    "print(list(teamdict.keys())[a] + \" \" + list(teamdict.keys())[c])\n",
    "print(list(muttualplayers(list(teamdict.keys())[a], list(teamdict.keys())[c])))\n",
    "print(len(list(muttualplayers(list(teamdict.keys())[a], list(teamdict.keys())[c]))))"
   ]
  },
  {
   "cell_type": "markdown",
   "metadata": {},
   "source": [
    "Here I did some extra work. I wanted to see witch teams have the most and the least players between them. I create a matrix and, with a nested for loop, I check them numer of mutual players between all the teams. Since the teams have all players muttual with it self, I substituted all the (n,n) elements with the mean of the row/column, for better visualizing."
   ]
  },
  {
   "cell_type": "code",
   "execution_count": 57,
   "metadata": {},
   "outputs": [],
   "source": [
    "b = np.zeros((30,30))"
   ]
  },
  {
   "cell_type": "code",
   "execution_count": 58,
   "metadata": {},
   "outputs": [],
   "source": [
    "for n,i in enumerate(teamdict):\n",
    "    for p,j in enumerate(teamdict):\n",
    "        b[n,p] = len(muttualplayers(i,j))\n",
    "\n",
    "for n,i in enumerate(b):\n",
    "    media = (i[:n].sum()+i[n:].sum())/29\n",
    "    i[n] = media"
   ]
  },
  {
   "cell_type": "markdown",
   "metadata": {},
   "source": [
    "Here is the heatmap of all the muttual players."
   ]
  },
  {
   "cell_type": "code",
   "execution_count": 63,
   "metadata": {},
   "outputs": [
    {
     "data": {
      "text/plain": [
       "<matplotlib.image.AxesImage at 0x12284790>"
      ]
     },
     "execution_count": 63,
     "metadata": {},
     "output_type": "execute_result"
    },
    {
     "data": {
      "image/png": "[encoded data removed]",
      "text/plain": [
       "<Figure size 1080x1080 with 1 Axes>"
      ]
     },
     "metadata": {
      "needs_background": "light"
     },
     "output_type": "display_data"
    }
   ],
   "source": [
    "fig, ax = plt.subplots(figsize=(15, 15))\n",
    "ax.imshow(b)"
   ]
  },
  {
   "cell_type": "code",
   "execution_count": null,
   "metadata": {},
   "outputs": [],
   "source": []
  }
 ],
 "metadata": {
  "kernelspec": {
   "display_name": "Python 3",
   "language": "python",
   "name": "python3"
  },
  "language_info": {
   "codemirror_mode": {
    "name": "ipython",
    "version": 3
   },
   "file_extension": ".py",
   "mimetype": "text/x-python",
   "name": "python",
   "nbconvert_exporter": "python",
   "pygments_lexer": "ipython3",
   "version": "3.7.6"
  }
 },
 "nbformat": 4,
 "nbformat_minor": 4
}
